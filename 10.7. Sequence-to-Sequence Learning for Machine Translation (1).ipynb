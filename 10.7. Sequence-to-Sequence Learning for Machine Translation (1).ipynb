{
 "cells": [
  {
   "cell_type": "markdown",
   "id": "d90cb762",
   "metadata": {},
   "source": [
    "\n"
   ]
  },
  {
   "cell_type": "markdown",
   "id": "da868404",
   "metadata": {},
   "source": [
    " <h1 style=\"text-align: center;\">ESCUELA POLITÉCNICA NACIONAL</h1>\n",
    "    <h2 style=\"text-align: center;\">FACULTAD DE INGENIERÍA DE SISTEMAS</h2>\n",
    "    <h3 style=\"text-align: center;\">BUSINESS INTELLIGENCE</h3>\n",
    "     <h3>INTEGRANTES GRUPO 8</h3>\n",
    "    <h4>AUCAPIÑA GUANIN PAOLA MARIBEL</h4>\n",
    "    <h4>IÑACASHA GORDILLO BYRON OSWALDO</h4>\n",
    "    <h4>ZÚÑIGA NEGRETE VERÓNICA LUCÍA</h4>"
   ]
  },
  {
   "cell_type": "markdown",
   "id": "31fab4c7",
   "metadata": {},
   "source": [
    "# 10.7. Sequence-to-Sequence Learning for Machine Translation\n",
    "\n",
    "In so-called sequence-to-sequence problems such as machine translation\n",
    "(as discussed in  <span style=\"color:red;\">Section 10.5</span>),\n",
    "where inputs and outputs each consist \n",
    "of variable-length unaligned sequences,\n",
    "we generally rely on encoder--decoder architectures\n",
    "( <span style=\"color:red;\">Section 10.6</span>).\n",
    "In this section,\n",
    "we will demonstrate the application \n",
    "of an encoder--decoder architecture,\n",
    "where both the encoder and decoder \n",
    "are implemented as RNNs,\n",
    "to the task of machine translation\n",
    "( <span style=\"color:red;\">Cho et al., 2014, Sutskever et al., 2014</span>)\n",
    "\n",
    "Here, the encoder RNN will take a variable-length sequence as input \n",
    "and transform it into a fixed-shape hidden state.\n",
    "Later, in <span style=\"color:red;\">Section 11</span>,\n",
    "we will introduce attention mechanisms, \n",
    "which allow us to access encoded inputs\n",
    "without having to compress the entire input\n",
    "into a single fixed-length representation.\n",
    "\n",
    "Then to generate the output sequence, \n",
    "one token at a time,\n",
    "the decoder model, \n",
    "consisting of a separate RNN,\n",
    "will predict each successive target token\n",
    "given both the input sequence\n",
    "and the preceding tokens in the output.\n",
    "During training, the decoder will typically\n",
    "be conditioned upon the preceding tokens\n",
    "in the official \"ground truth\" label. \n",
    "However, at test time, we will want to condition\n",
    "each output of the decoder on the tokens already predicted. \n",
    "Note that if we ignore the encoder,\n",
    "the decoder in a sequence-to-sequence architecture \n",
    "behaves just like a normal language model.\n",
    "<span style=\"color:red;\">Fig. 10.7.1</span> illustrates\n",
    "how to use two RNNs\n",
    "for sequence-to-sequence learning\n",
    "in machine translation."
   ]
  },
  {
   "attachments": {
    "image.png": {
     "image/png": "[encoded data removed]"
    }
   },
   "cell_type": "markdown",
   "id": "696e3f5a",
   "metadata": {},
   "source": [
    "![image.png](attachment:image.png)\n",
    "<center>Fig. 10.7.1 Sequence-to-sequence learning with an RNN encoder and an RNN decoder.</center>"
   ]
  },
  {
   "cell_type": "markdown",
   "id": "44e6e5d7",
   "metadata": {},
   "source": [
    "In  <span style=\"color:red;\">Fig 10.7.1</span>,\n",
    "the special \"&lt;eos&gt;\" token\n",
    "marks the end of the sequence.\n",
    "Our model can stop making predictions\n",
    "once this token is generated.\n",
    "At the initial time step of the RNN decoder,\n",
    "there are two special design decisions to be aware of:\n",
    "First, we begin every input with a special \n",
    "beginning-of-sequence \"&lt;bos&gt;\" token.\n",
    "Second, we may feed\n",
    "the final hidden state of the encoder\n",
    "into the decoder\n",
    "at every single decoding time step ( <span style=\"color:red;\"> Cho et al., 2014</span>).\n",
    "In some other designs,\n",
    "such as that of  Sutskever et al. ( <span style=\"color:red;\">2014</span>),\n",
    "the final hidden state of the RNN encoder\n",
    "is used\n",
    "to initiate the hidden state of the decoder\n",
    "only at the first decoding step."
   ]
  },
  {
   "cell_type": "code",
   "execution_count": 1,
   "id": "3ea0d7b5",
   "metadata": {},
   "outputs": [],
   "source": [
    "use strict;\n",
    "use warnings;\n",
    "use Data::Dump qw(dump);\n",
    "use d2l;\n",
    "IPerl->load_plugin('Chart::Plotly');\n",
    "use jjap::numperl;# Importa el módulo jjap::numperl.\n",
    "use AI::MXNet qw(mx); # Importa la clase mx del módulo AI::MXNet.\n",
    "use List::Util qw(sum);# Importa la función sum del módulo\n",
    "use constant np => 'numperl';# Define la constante np con el valor "
   ]
  },
  {
   "cell_type": "markdown",
   "id": "4438d409",
   "metadata": {},
   "source": [
    "## 10.7.1. Teacher Forcing\n",
    "\n",
    "\n",
    "While running the encoder on the input sequence\n",
    "is relatively straightforward,\n",
    "handling the input and output \n",
    "of the decoder requires more care. \n",
    "The most common approach is sometimes called *teacher forcing*.\n",
    "Here, the original target sequence (token labels)\n",
    "is fed into the decoder as input.\n",
    "More concretely,\n",
    "the special beginning-of-sequence token\n",
    "and the original target sequence,\n",
    "excluding the final token,\n",
    "are concatenated as input to the decoder,\n",
    "while the decoder output (labels for training) is\n",
    "the original target sequence,\n",
    "shifted by one token:\n",
    "\"&lt;bos&gt;\", \"Ils\", \"regardent\", \".\" $\\rightarrow$\n",
    "\"Ils\", \"regardent\", \".\", \"&lt;eos&gt;\" ( <span style=\"color:red;\">Fig. 10.7.1</span>).\n",
    "\n",
    "Our implementation in\n",
    " <span style=\"color:red;\">Section 10.5.3</span>\n",
    "prepared training data for teacher forcing,\n",
    "where shifting tokens for self-supervised learning\n",
    "is similar to the training of language models in\n",
    " <span style=\"color:red;\">Section 9.3</span>.\n",
    "An alternative approach is\n",
    "to feed the *predicted* token\n",
    "from the previous time step\n",
    "as the current input to the decoder.\n",
    "\n",
    "\n",
    "In the following, we explain the design \n",
    "depicted in  <span style=\"color:red;\">Fig 10.7.1</span>\n",
    "in greater detail.\n",
    "We will train this model for machine translation\n",
    "on the English--French dataset as introduced in\n",
    " <span style=\"color:red;\">Section 10.5</span>.\n"
   ]
  },
  {
   "cell_type": "markdown",
   "id": "7b71e36b",
   "metadata": {},
   "source": [
    "## 10.7.2. Encoder\n",
    "\n",
    "Recall that the encoder transforms an input sequence of variable length\n",
    "into a fixed-shape *context variable* $\\mathbf{c}$ (see <span style=\"color:red;\"> Fig. 10.7.1.</span>).\n",
    "\n",
    "\n",
    "Consider a single sequence example (batch size 1).\n",
    "Suppose the input sequence is $x_1, \\ldots, x_T$, \n",
    "such that $x_t$ is the $t^{\\textrm{th}}$ token.\n",
    "At time step $t$, the RNN transforms\n",
    "the input feature vector $\\mathbf{x}_t$ for $x_t$\n",
    "and the hidden state $\\mathbf{h} _{t-1}$ \n",
    "from the previous time step \n",
    "into the current hidden state $\\mathbf{h}_t$.\n",
    "We can use a function $f$ to express \n",
    "the transformation of the RNN's recurrent layer:\n",
    "\n",
    "$$\\mathbf{h}_t = f(\\mathbf{x}_t, \\mathbf{h}_{t-1}). $$\n",
    "(10.7.1)\n",
    "\n",
    "In general, the encoder transforms \n",
    "the hidden states at all time steps\n",
    "into a context variable through a customized function $q$:\n",
    "\n",
    "$$\\mathbf{c} =  q(\\mathbf{h}_1, \\ldots, \\mathbf{h}_T).$$\n",
    "(10.7.2)\n",
    "\n",
    "For example, in <span style=\"color:red;\"> Fig. 10.7.1.</span>,\n",
    "the context variable is just the hidden state $\\mathbf{h}_T$\n",
    "corresponding to the encoder RNN's representation\n",
    "after processing the final token of the input sequence.\n",
    "\n",
    "In this example, we have used a unidirectional RNN\n",
    "to design the encoder,\n",
    "where the hidden state only depends on the input subsequence \n",
    "at and before the time step of the hidden state.\n",
    "We can also construct encoders using bidirectional RNNs.\n",
    "In this case, a hidden state depends on the subsequence before and after the time step \n",
    "(including the input at the current time step), \n",
    "which encodes the information of the entire sequence.\n",
    "\n",
    "\n",
    "Now let's implement the RNN encoder.\n",
    "Note that we use an *embedding layer*\n",
    "to obtain the feature vector for each token in the input sequence.\n",
    "The weight of an embedding layer is a matrix,\n",
    "where the number of rows corresponds to \n",
    "the size of the input vocabulary (`vocab_size`)\n",
    "and number of columns corresponds to \n",
    "the feature vector's dimension (`embed_size`).\n",
    "For any input token index $i$,\n",
    "the embedding layer fetches the $i^{\\textrm{th}}$ row \n",
    "(starting from 0) of the weight matrix\n",
    "to return its feature vector.\n",
    "Here we implement the encoder with a multilayer GRU."
   ]
  },
  {
   "cell_type": "code",
   "execution_count": 2,
   "id": "f0f93250",
   "metadata": {},
   "outputs": [
    {
     "data": {
      "text/plain": [
       "1"
      ]
     },
     "execution_count": 2,
     "metadata": {},
     "output_type": "execute_result"
    }
   ],
   "source": [
    "package Seq2SeqEncoder {\n",
    "    use base (\"d2l::Encoder\"); # Importa el módulo d2l::Module y lo establece como la clase base\n",
    "\n",
    "    sub new { \n",
    "        (my $class, our %args) = (shift, d2l->get_arguments(vocab_size => undef, embed_size => undef, num_hiddens => undef, num_layers => undef, dropout => 0.0, \\@_));\n",
    "        my $self = $class->SUPER::new(); # Llama al constructor de la superclase para inicializar el objeto\n",
    "            \n",
    "        $self->{embedding} = mx->gluon->nn->Embedding($args{vocab_size}, $args{embed_size}); \n",
    "        $self->{rnn} = new d2l::GRU($args{num_hiddens}, $args{num_layers}, $args{dropout}); \n",
    "        map {$self->register_child($self->{$_})} ('embedding','rnn');\n",
    "        $self->initialize(mx->init->Xavier());\n",
    "        \n",
    "        return bless($self, $class); # Asocia el objeto con la clase y lo devuelve\n",
    "    }\n",
    "    sub forward{\n",
    "    \n",
    "         my ($self, %args) = (shift, d2l->get_arguments(X => undef, \\@_));\n",
    "         my $embs = $self->{embedding}->forward(mx->nd->transpose($args{X}));\n",
    "         my ($outputs, $state) = @{$self->{rnn}->forward($embs)};\n",
    "    \n",
    "         return [$outputs, $state];\n",
    "    }\n",
    "    \n",
    "    1; \n",
    "}"
   ]
  },
  {
   "cell_type": "markdown",
   "id": "c99ef1e1",
   "metadata": {},
   "source": [
    "Let's use a concrete example\n",
    "to illustrate the above encoder implementation.\n",
    "Below, we instantiate a two-layer GRU encoder\n",
    "whose number of hidden units is 16.\n",
    "Given a minibatch of sequence inputs `X`\n",
    "(batch size $=4$; number of time steps $=9$),\n",
    "the hidden states of the final layer\n",
    "at all the time steps\n",
    "(`enc_outputs` returned by the encoder's recurrent layers)\n",
    "are a tensor of shape\n",
    "(number of time steps, batch size, number of hidden units).\n"
   ]
  },
  {
   "cell_type": "code",
   "execution_count": 4,
   "id": "75a95cdf",
   "metadata": {},
   "outputs": [
    {
     "name": "stdout",
     "output_type": "stream",
     "text": [
      "Seq2SeqEncoder(\n",
      "\n",
      ")\n",
      "Embedding(10 -> 8, float32)\n",
      "GRU(16, TNC, num_layers=2)\n",
      "<AI::MXNet::NDArray 9x4x16 @cpu(0)>\n",
      "<AI::MXNet::NDArray 2x4x16 @cpu(0)>\n",
      "embedding:\n",
      "\t0\tembedding1_weight\t<AI::MXNet::NDArray 10x8 @cpu(0)>\n",
      "rnn:\n",
      "\t0\tgru1_l0_i2h_weight\t<AI::MXNet::NDArray 48x8 @cpu(0)>\n",
      "\t1\tgru1_l0_h2h_weight\t<AI::MXNet::NDArray 48x16 @cpu(0)>\n",
      "\t2\tgru1_l0_i2h_bias\t<AI::MXNet::NDArray 48 @cpu(0)>\n",
      "\t3\tgru1_l0_h2h_bias\t<AI::MXNet::NDArray 48 @cpu(0)>\n",
      "\t4\tgru1_l1_i2h_weight\t<AI::MXNet::NDArray 48x16 @cpu(0)>\n",
      "\t5\tgru1_l1_h2h_weight\t<AI::MXNet::NDArray 48x16 @cpu(0)>\n",
      "\t6\tgru1_l1_i2h_bias\t<AI::MXNet::NDArray 48 @cpu(0)>\n",
      "\t7\tgru1_l1_h2h_bias\t<AI::MXNet::NDArray 48 @cpu(0)>\n"
     ]
    }
   ],
   "source": [
    "my ($vocab_size, $embed_size, $num_hiddens, $num_layers) = (10, 8, 16, 2);\n",
    "my ($batch_size, $num_steps) = (4, 9);\n",
    "my $encoder =   new Seq2SeqEncoder( $vocab_size, $embed_size, $num_hiddens, $num_layers);\n",
    "print $encoder, \"\\n\";\n",
    "print $encoder->{embedding}, \"\\n\";\n",
    "print $encoder->{rnn}{rnn}, \"\\n\";\n",
    "my $X = mx->nd->zeros([$batch_size, $num_steps]);\n",
    "my ($enc_outputs, $enc_state) = @{$encoder->forward($X)};\n",
    "print $enc_outputs,\"\\n\";\n",
    "print $enc_state,\"\\n\";\n",
    "d2l->check_shape($enc_outputs, [$num_steps, $batch_size, $num_hiddens]);\n",
    "d2l->list_params($encoder);"
   ]
  },
  {
   "cell_type": "markdown",
   "id": "feede8a9",
   "metadata": {},
   "source": [
    "Since we are using a GRU here,\n",
    "the shape of the multilayer hidden states\n",
    "at the final time step is\n",
    "(number of hidden layers, batch size, number of hidden units).\n"
   ]
  },
  {
   "cell_type": "code",
   "execution_count": 5,
   "id": "f2afff15",
   "metadata": {},
   "outputs": [
    {
     "data": {
      "text/plain": [
       "1"
      ]
     },
     "execution_count": 5,
     "metadata": {},
     "output_type": "execute_result"
    }
   ],
   "source": [
    "# d2l.check_shape(enc_state, (num_layers, batch_size, num_hiddens))\n",
    "d2l->check_shape($enc_state, [$num_layers, $batch_size, $num_hiddens]);"
   ]
  },
  {
   "cell_type": "markdown",
   "id": "92b68463",
   "metadata": {},
   "source": [
    "## 10.7.3. Decoder\n",
    "\n",
    "Given a target output sequence $y_1, y_2, \\ldots, y_{T'}$\n",
    "for each time step $t'$\n",
    "(we use $t^\\prime$ to differentiate from the input sequence time steps),\n",
    "the decoder assigns a predicted probability\n",
    "to each possible token occurring at step $y_{t'+1}$\n",
    "conditioned upon the previous tokens in the target\n",
    "$y_1, \\ldots, y_{t'}$ \n",
    "and the context variable \n",
    "$\\mathbf{c}$, i.e., $P(y_{t'+1} \\mid y_1, \\ldots, y_{t'}, \\mathbf{c})$.\n",
    "\n",
    "To predict the subsequent token $t^\\prime+1$ in the target sequence,\n",
    "the RNN decoder takes the previous step's target token $y_{t^\\prime}$,\n",
    "the hidden RNN state from the previous time step $\\mathbf{s}_{t^\\prime-1}$,\n",
    "and the context variable $\\mathbf{c}$ as its input,\n",
    "and transforms them into the hidden state \n",
    "$\\mathbf{s}_{t^\\prime}$ at the current time step.\n",
    "We can use a function $g$ to express \n",
    "the transformation of the decoder's hidden layer:\n",
    "\n",
    "$$\\mathbf{s}_{t^\\prime} = g(y_{t^\\prime-1}, \\mathbf{c}, \\mathbf{s}_{t^\\prime-1}).$$\n",
    "(10.7.3)\n",
    "\n",
    "After obtaining the hidden state of the decoder,\n",
    "we can use an output layer and the softmax operation \n",
    "to compute the predictive distribution\n",
    "$p(y_{t^{\\prime}+1} \\mid y_1, \\ldots, y_{t^\\prime}, \\mathbf{c})$ \n",
    "over the subsequent output token ${t^\\prime+1}$.\n",
    "\n",
    "Following <span style=\"color:red;\"> Fig. 10.7.1.</span>,\n",
    "when implementing the decoder as follows,\n",
    "we directly use the hidden state at the final time step\n",
    "of the encoder\n",
    "to initialize the hidden state of the decoder.\n",
    "This requires that the RNN encoder and the RNN decoder \n",
    "have the same number of layers and hidden units.\n",
    "To further incorporate the encoded input sequence information,\n",
    "the context variable is concatenated\n",
    "with the decoder input at all the time steps.\n",
    "To predict the probability distribution of the output token,\n",
    "we use a fully connected layer\n",
    "to transform the hidden state \n",
    "at the final layer of the RNN decoder."
   ]
  },
  {
   "cell_type": "code",
   "execution_count": 6,
   "id": "7e5f9df7",
   "metadata": {},
   "outputs": [
    {
     "data": {
      "text/plain": [
       "1"
      ]
     },
     "execution_count": 6,
     "metadata": {},
     "output_type": "execute_result"
    }
   ],
   "source": [
    "package Seq2SeqDecoder {\n",
    "    use base (\"d2l::Decoder\"); # Importa el módulo d2l::Module y lo establece como la clase base\n",
    "\n",
    "    sub new { \n",
    "        (my $class, our %args) = (shift, d2l->get_arguments(vocab_size => undef, embed_size => undef, num_hiddens => undef, num_layers => undef, dropout => 0.0, \\@_));\n",
    "        my $self = $class->SUPER::new(); # Llama al constructor de la superclase para inicializar el objeto\n",
    "            \n",
    "        $self->{embedding} = mx->gluon->nn->Embedding($args{vocab_size}, $args{embed_size}); \n",
    "        $self->{rnn} = new d2l::GRU($args{num_hiddens}, $args{num_layers}, $args{dropout}); \n",
    "      #  map {$self->register_child($self->{$_})} ('embedding','rnn');\n",
    "        $self->{dense}= mx->gluon->nn->Dense($args{vocab_size}, flatten=>0);\n",
    "        $self->initialize(mx->init->Xavier());\n",
    "        \n",
    "        return bless($self, $class); # Asocia el objeto con la clase y lo devuelve\n",
    "    }\n",
    "    sub forward{\n",
    "    \n",
    "        my ($self, $X, $state) = (splice(@_, 0,2), d2l->get_arguments(\\@_));\n",
    "        my $embs = $self->embedding(mx->nd->transpose($X));\n",
    "        my ($enc_output, $hidden_state) = $state;\n",
    "        my $context = $enc_output->at(-1);\n",
    "        $context = $context->expand_dims(0)->tile([$embs->shape->[0], 1, 1]);\n",
    "        my $embs_and_context = mx->nd->concatenate([$embs, $context], -1);\n",
    "        my ($outputs, $new_hidden_state) = $self->rnn($embs_and_context, $hidden_state);\n",
    "        $outputs = $self->dense->($outputs)->swapaxes(0, 1);\n",
    "        return $outputs, [$enc_output, $new_hidden_state];\n",
    "    }\n",
    "    \n",
    "    1; \n",
    "}"
   ]
  },
  {
   "cell_type": "code",
   "execution_count": 8,
   "id": "712e5370",
   "metadata": {},
   "outputs": [
    {
     "data": {
      "text/plain": [
       "1"
      ]
     },
     "execution_count": 8,
     "metadata": {},
     "output_type": "execute_result"
    },
    {
     "ename": "Warning",
     "evalue": "Subroutine new redefined at reply input line 4.\n\nSubroutine forward redefined at reply input line 23.\n",
     "output_type": "error",
     "traceback": [
      "Subroutine new redefined at reply input line 4.\n\nSubroutine forward redefined at reply input line 23.\n"
     ]
    }
   ],
   "source": [
    "package Seq2SeqDecoder{\n",
    "  # The RNN decoder for sequence to sequence learning.\n",
    "  use base (\"d2l::Decoder\");\n",
    "sub new {\n",
    "     my ( $class,  %args) = (shift, d2l->get_arguments(vocab_size=> undef,\n",
    "                                                embed_size=> undef,\n",
    "                                                num_hiddens=> undef,\n",
    "                                                num_layers=> undef,\n",
    "                                                dropout=> 0,  \n",
    "                                                \\@_));\n",
    "    my  $self = $class->SUPER::new(); \n",
    "    $self->{embedding} = mx->gluon->nn->Embedding($args{vocab_size},$args{embed_size}); \n",
    "    $self->{rnn} = new d2l::GRU($args{num_hiddens}, $args{num_layers}, $args{dropout});\n",
    "    $self->{dense}= mx->gluon->nn->Dense($args{vocab_size}, flatten=>0);\n",
    "    map {$self->register_child($self->{$_})} ('embedding', 'rnn', 'dense');\n",
    "    $self->initialize(mx->init->Xavier());\n",
    "  return bless ($self, $class);  \n",
    "}\n",
    "sub init_state{\n",
    "  my ($self, $enc_all_outputs, %args) = (splice(@_, 0, 2),d2l->get_arguments(\\@_));                                     \n",
    "  return $enc_all_outputs;\n",
    "}\n",
    "sub forward {\n",
    "   my ($self, $X, $state) = (splice(@_, 0,2), d2l->get_arguments(\\@_));\n",
    "    my $embs = $self->{embedding}->forward(mx->nd->transpose($X)); \n",
    "    my ($enc_output, $hidden_state) = @{$state};\n",
    "    my $context = $enc_output->slice([-1]);\n",
    "     $context = mx->nd->tile($context, [$embs->shape->[0], 1, 1]);\n",
    "    my $embs_and_context = mx->nd->concatenate([$embs, $context], axis => 2);\n",
    "     ( my $outputs, $hidden_state) = @{$self->{rnn}->forward($embs_and_context, $hidden_state)};\n",
    "    $outputs = $self->{dense}->forward($outputs)->swapaxes(0, 1);\n",
    "    return ($outputs, [$enc_output, $hidden_state]);\n",
    "}\n",
    "1;\n",
    "} "
   ]
  },
  {
   "cell_type": "markdown",
   "id": "b66e72ef",
   "metadata": {},
   "source": [
    "To illustrate the implemented decoder,\n",
    "below we instantiate it with the same hyperparameters from the aforementioned encoder.\n",
    "As we can see, the output shape of the decoder becomes (batch size, number of time steps, vocabulary size),\n",
    "where the final dimension of the tensor stores the predicted token distribution.\n"
   ]
  },
  {
   "cell_type": "code",
   "execution_count": 9,
   "id": "cce897de",
   "metadata": {},
   "outputs": [
    {
     "name": "stdout",
     "output_type": "stream",
     "text": [
      "Seq2SeqDecoder(\n",
      "\n",
      ")\n",
      "Embedding(10 -> 8, float32)\n",
      "GRU(16, TNC, num_layers=2)\n",
      "Dense(10 -> 0, linear)\n",
      "ARRAY(0xc455600)\n",
      "2\n",
      "state->[0]: <AI::MXNet::NDArray 9x4x16 @cpu(0)>\n",
      "state->[1]: <AI::MXNet::NDArray 2x4x16 @cpu(0)>\n",
      "state->[1]: <AI::MXNet::NDArray 2x4x16 @cpu(0)>\n"
     ]
    },
    {
     "data": {
      "text/plain": [
       "1"
      ]
     },
     "execution_count": 9,
     "metadata": {},
     "output_type": "execute_result"
    }
   ],
   "source": [
    "my $decoder = new Seq2SeqDecoder($vocab_size, $embed_size, $num_hiddens, $num_layers);\n",
    "print $decoder, \"\\n\";\n",
    "print $decoder->{embedding}, \"\\n\";\n",
    "print $decoder->{rnn}{rnn}, \"\\n\";\n",
    "print $decoder->{dense}, \"\\n\";\n",
    "my $state = $decoder->init_state($encoder->forward($X));\n",
    "print $state, \"\\n\";\n",
    "print scalar @$state, \"\\n\";\n",
    "print \"state->[0]: \", $state->[0], \"\\n\";\n",
    "print \"state->[1]: \", $state->[1], \"\\n\";\n",
    "#(my $dec_outputs, $state) = @{$decoder->forward($X, $state)};\n",
    "print \"state->[1]: \", $state->[1], \"\\n\";\n",
    "#d2l->check_shape($dec_outputs, [$batch_size, $num_steps, $vocab_size]);\n",
    "d2l->check_shape($state->[1], [$num_layers, $batch_size, $num_hiddens]);\n",
    "#d2l->list_params($decoder);"
   ]
  },
  {
   "attachments": {
    "image.png": {
     "image/png": "[encoded data removed]"
    }
   },
   "cell_type": "markdown",
   "id": "a3fb46b3",
   "metadata": {},
   "source": [
    "The layers in the above RNN encoder--decoder model \n",
    "are summarized in <span style=\"color:red;\"> Fig. 10.7.2.</span>\n",
    "\n",
    "![image.png](attachment:image.png)\n",
    "<center>Fig. 10.7.2 Layers in an RNN encoder–decoder model.</center>"
   ]
  },
  {
   "cell_type": "markdown",
   "id": "0293c6fc",
   "metadata": {},
   "source": [
    "## 10.7.4 Encoder–Decoder for Sequence-to-Sequence Learning\n",
    "\n",
    "Putting it all together in code yields the following:"
   ]
  },
  {
   "cell_type": "code",
   "execution_count": null,
   "id": "0fbfa8a5",
   "metadata": {},
   "outputs": [],
   "source": [
    "class Seq2Seq(d2l.EncoderDecoder):  #@save\n",
    "    \"\"\"The RNN encoder--decoder for sequence to sequence learning.\"\"\"\n",
    "    def __init__(self, encoder, decoder, tgt_pad, lr):\n",
    "        super().__init__(encoder, decoder)\n",
    "        self.save_hyperparameters()\n",
    "\n",
    "    def validation_step(self, batch):\n",
    "        Y_hat = self(*batch[:-1])\n",
    "        self.plot('loss', self.loss(Y_hat, batch[-1]), train=False)\n",
    "\n",
    "    def configure_optimizers(self):\n",
    "        # Adam optimizer is used here\n",
    "        return torch.optim.Adam(self.parameters(), lr=self.lr)"
   ]
  },
  {
   "cell_type": "code",
   "execution_count": 13,
   "id": "cb89ef4d",
   "metadata": {},
   "outputs": [
    {
     "data": {
      "text/plain": [
       "1"
      ]
     },
     "execution_count": 13,
     "metadata": {},
     "output_type": "execute_result"
    },
    {
     "ename": "Warning",
     "evalue": "Subroutine new redefined at reply input line 4.\n\nSubroutine validation_step redefined at reply input line 15.\n\nSubroutine configure_optimizers redefined at reply input line 22.\n",
     "output_type": "error",
     "traceback": [
      "Subroutine new redefined at reply input line 4.\n\nSubroutine validation_step redefined at reply input line 15.\n\nSubroutine configure_optimizers redefined at reply input line 22.\n"
     ]
    }
   ],
   "source": [
    "package Seq2Seq{\n",
    "use base (\"d2l::EncoderDecoder\");\n",
    "\n",
    "sub new {\n",
    "    my ($class, %args) = (shift, d2l->get_arguments(encoder=>undef,\n",
    "                                                decoder=>undef,\n",
    "                                                tgt_pad=>undef,\n",
    "                                                lr=>undef, \n",
    "                                                \\@_));\n",
    "    my  $self = $class->SUPER::new($args{encoder},$args{decoder}); \n",
    "    $self->save_hyperparameters(%args);\n",
    "    return bless ($self, $class);\n",
    "}\n",
    "\n",
    "sub validation_step{\n",
    "        my ($self, $batch) = @_; \n",
    "        my $Y_hat = $self->forward(@{$batch}[0 .. $#{$batch} - 1]);\n",
    "        $self->plot('loss', $self->loss($Y_hat, $batch->[-1]), train => 0);\n",
    "        $self->plot('loss', $self->loss($Y_hat, $batch->[3]), train => 0);\n",
    "\n",
    "}\n",
    "sub configure_optimizers{\n",
    "      my $self = shift;\n",
    "      return mx->gluon->Trainer( $self->parameters(), \n",
    "                                        optimizer => 'adam',\n",
    "                                        optimizer_params => {learning_rate => $self->{lr}});  \n",
    "}\n",
    "  1;\n",
    "}"
   ]
  },
  {
   "cell_type": "markdown",
   "id": "4134581d",
   "metadata": {},
   "source": [
    "## 10.7.5. Loss Function with Masking\n",
    "\n",
    "At each time step, the decoder predicts a probability distribution for the output tokens. As with language modeling, we can apply softmax to obtain the distribution and calculate the cross-entropy loss for optimization. Recall from <span style=\"color:red;\"> Section 10.5</span> that the special padding tokens are appended to the end of sequences and so sequences of varying lengths can be efficiently loaded in minibatches of the same shape. However, prediction of padding tokens should be excluded from loss calculations. To this end, we can mask irrelevant entries with zero values so that multiplication of any irrelevant prediction with zero equates to zero."
   ]
  },
  {
   "cell_type": "code",
   "execution_count": 14,
   "id": "f9cb3564",
   "metadata": {},
   "outputs": [
    {
     "data": {
      "text/plain": [
       "*Seq2Seq::loss"
      ]
     },
     "execution_count": 14,
     "metadata": {},
     "output_type": "execute_result"
    },
    {
     "ename": "Warning",
     "evalue": "Subroutine Seq2Seq::loss redefined at /usr/local/lib/perl5/site_perl/5.32.1/x86_64-linux/d2l.pm line 4478.\n",
     "output_type": "error",
     "traceback": [
      "Subroutine Seq2Seq::loss redefined at /usr/local/lib/perl5/site_perl/5.32.1/x86_64-linux/d2l.pm line 4478.\n"
     ]
    }
   ],
   "source": [
    "my $loss = sub{\n",
    "  my ($self, %args) = (shift, d2l->get_arguments(Y_hat=>undef, Y=>undef, \\@_));\n",
    "  my $l = $self->SUPER::loss($args{Y_hat}, $args{Y}, averaged=> 0);\n",
    "  my $mask = ($args{Y}->reshape([-1])!= $self->{tgt_pad})->astype('float32'); \n",
    "  return mx->nd->sum($l * $mask) / mx->nd->sum($mask);\n",
    "};\n",
    "\n",
    "d2l->add_to_class('Seq2Seq', 'loss', $loss);"
   ]
  },
  {
   "cell_type": "markdown",
   "id": "8e908bf4",
   "metadata": {},
   "source": [
    "## 10.7.6. Training\n",
    "\n",
    "Now we can create and train an RNN encoder–decoder model for sequence-to-sequence learning on the machine translation dataset."
   ]
  },
  {
   "cell_type": "code",
   "execution_count": null,
   "id": "239e027d",
   "metadata": {},
   "outputs": [],
   "source": [
    "data = d2l.MTFraEng(batch_size=128)\n",
    "embed_size, num_hiddens, num_layers, dropout = 256, 256, 2, 0.2\n",
    "encoder = Seq2SeqEncoder(\n",
    "    len(data.src_vocab), embed_size, num_hiddens, num_layers, dropout)\n",
    "decoder = Seq2SeqDecoder(\n",
    "    len(data.tgt_vocab), embed_size, num_hiddens, num_layers, dropout)\n",
    "model = Seq2Seq(encoder, decoder, tgt_pad=data.tgt_vocab['<pad>'],\n",
    "                lr=0.005)\n",
    "trainer = d2l.Trainer(max_epochs=30, gradient_clip_val=1, num_gpus=1)\n",
    "trainer.fit(model, data)"
   ]
  },
  {
   "cell_type": "code",
   "execution_count": 15,
   "id": "62692cf2",
   "metadata": {},
   "outputs": [
    {
     "ename": "Error",
     "evalue": "Can't use an undefined value as an ARRAY reference at reply input line 26.\n at /usr/local/lib/perl5/site_perl/5.32.1/AI/MXNet/AutoGrad.pm line 408.\n\tAI::MXNet::AutoGrad::record(\"AI::MXNet::AutoGrad\", CODE(0xd290988)) called at /usr/local/lib/perl5/site_perl/5.32.1/x86_64-linux/d2l.pm line 6733\n\td2l::Trainer::fit_epoch(d2l::Trainer=HASH(0xc5ee030)) called at /usr/local/lib/perl5/site_perl/5.32.1/x86_64-linux/d2l.pm line 6659\n\td2l::Trainer::fit(d2l::Trainer=HASH(0xc5ee030), Seq2Seq=HASH(0xc44e100), d2l::MTFraEng=HASH(0xc3bf760)) called at reply input line 7\n\tEval::Closure::Sandbox_1599::__ANON__() called at /usr/local/lib/perl5/site_perl/5.32.1/Reply/Plugin/Defaults.pm line 71\n\tReply::Plugin::Defaults::execute(Reply::Plugin::Defaults=HASH(0x4587f50), CODE(0x4c083b8), CODE(0xc450bb0)) called at /usr/local/lib/perl5/site_perl/5.32.1/Reply.pm line 217\n\tReply::_wrapped_plugin(Reply=HASH(0x454fe38), ARRAY(0xc1c3f08), \"execute\", CODE(0xc450bb0)) called at /usr/local/lib/perl5/site_perl/5.32.1/Reply.pm line 215\n\tReply::__ANON__(CODE(0xc450bb0)) called at /usr/local/lib/perl5/site_perl/5.32.1/Reply/Plugin/IPerl.pm line 28\n\tReply::Plugin::IPerl::__ANON__() called at /usr/local/lib/perl5/site_perl/5.32.1/Capture/Tiny.pm line 382\n\teval {...} called at /usr/local/lib/perl5/site_perl/5.32.1/Capture/Tiny.pm line 382\n\tCapture::Tiny::_capture_tee(1, 1, 0, 0, CODE(0xc3cead8)) called at /usr/local/lib/perl5/site_perl/5.32.1/Reply/Plugin/IPerl.pm line 29\n\tReply::Plugin::IPerl::execute(Reply::Plugin::IPerl=HASH(0x45a0918), CODE(0xc44c950), CODE(0xc450bb0)) called at /usr/local/lib/perl5/site_perl/5.32.1/Reply.pm line 217\n\tReply::_wrapped_plugin(Reply=HASH(0x454fe38), \"execute\", CODE(0xc450bb0)) called at /usr/local/lib/perl5/site_perl/5.32.1/Reply.pm line 174\n\tReply::_eval(Reply=HASH(0x454fe38), \"\\x{a}#line 1 \\\"reply input\\\"\\x{a}my \\$data = new d2l::MTFraEng(batch_siz\"...) called at /usr/local/lib/perl5/site_perl/5.32.1/Reply.pm line 66\n\tReply::try {...} () called at /usr/local/lib/perl5/site_perl/5.32.1/Try/Tiny.pm line 102\n\teval {...} called at /usr/local/lib/perl5/site_perl/5.32.1/Try/Tiny.pm line 93\n\tTry::Tiny::try(CODE(0x4c082e0), Try::Tiny::Catch=REF(0xbece750)) called at /usr/local/lib/perl5/site_perl/5.32.1/Reply.pm line 71\n\tReply::step(Reply=HASH(0x454fe38), \"my \\$data = new d2l::MTFraEng(batch_size=> 128);\\x{a}(\\$embed_size,\"..., 0) called at /usr/local/lib/perl5/site_perl/5.32.1/Devel/IPerl/Kernel/Backend/Reply.pm line 48\n\tDevel::IPerl::Kernel::Backend::Reply::__ANON__() called at /usr/local/lib/perl5/site_perl/5.32.1/Capture/Tiny.pm line 382\n\teval {...} called at /usr/local/lib/perl5/site_perl/5.32.1/Capture/Tiny.pm line 382\n\tCapture::Tiny::_capture_tee(1, 1, 0, 0, CODE(0xdd4b310)) called at /usr/local/lib/perl5/site_perl/5.32.1/Devel/IPerl/Kernel/Backend/Reply.pm line 49\n\tDevel::IPerl::Kernel::Backend::Reply::run_line(Devel::IPerl::Kernel::Backend::Reply=HASH(0x1e1ca88), \"my \\$data = new d2l::MTFraEng(batch_size=> 128);\\x{a}(\\$embed_size,\"...) called at /usr/local/lib/perl5/site_perl/5.32.1/Devel/IPerl/Kernel/Callback/REPL.pm line 42\n\tDevel::IPerl::Kernel::Callback::REPL::execute(Devel::IPerl::Kernel::Callback::REPL=HASH(0x1f22408), Devel::IPerl::Kernel=HASH(0x20c1388), Devel::IPerl::Message::ZMQ=HASH(0xc44d418)) called at (eval 30) line 6\n\tDevel::IPerl::Kernel::Callback::REPL::execute(Devel::IPerl::Kernel::Callback::REPL=HASH(0x1f22408), Devel::IPerl::Kernel=HASH(0x20c1388), Devel::IPerl::Message::ZMQ=HASH(0xc44d418)) called at /usr/local/lib/perl5/site_perl/5.32.1/Devel/IPerl/Kernel/Callback/REPL.pm line 156\n\tDevel::IPerl::Kernel::Callback::REPL::msg_execute_request(Devel::IPerl::Kernel::Callback::REPL=HASH(0x1f22408), Devel::IPerl::Kernel=HASH(0x20c1388), Devel::IPerl::Message::ZMQ=HASH(0xc44d418), ZMQ::LibZMQ3::Socket=HASH(0x4bf4cb0)) called at /usr/local/lib/perl5/site_perl/5.32.1/Devel/IPerl/Kernel.pm line 245\n\tDevel::IPerl::Kernel::route_message(Devel::IPerl::Kernel=HASH(0x20c1388), ARRAY(0x4bf4dd0), ZMQ::LibZMQ3::Socket=HASH(0x4bf4cb0)) called at /usr/local/lib/perl5/site_perl/5.32.1/Devel/IPerl/Kernel.pm line 215\n\tDevel::IPerl::Kernel::__ANON__(Net::Async::ZMQ::Socket=HASH(0x4bf4e60)) called at /usr/local/lib/perl5/site_perl/5.32.1/IO/Async/Loop/Poll.pm line 172\n\tIO::Async::Loop::Poll::post_poll(IO::Async::Loop::Poll=HASH(0x4af7478)) called at /usr/local/lib/perl5/site_perl/5.32.1/IO/Async/Loop/Poll.pm line 292\n\tIO::Async::Loop::Poll::loop_once(IO::Async::Loop::Poll=HASH(0x4af7478), undef) called at /usr/local/lib/perl5/site_perl/5.32.1/IO/Async/Loop.pm line 538\n\tIO::Async::Loop::run(IO::Async::Loop::Poll=HASH(0x4af7478)) called at /usr/local/lib/perl5/site_perl/5.32.1/IO/Async/Loop.pm line 575\n\tIO::Async::Loop::loop_forever(IO::Async::Loop::Poll=HASH(0x4af7478)) called at /usr/local/lib/perl5/site_perl/5.32.1/Devel/IPerl/Kernel.pm line 225\n\tDevel::IPerl::Kernel::run(Devel::IPerl::Kernel=HASH(0x20c1388)) called at /usr/local/lib/perl5/site_perl/5.32.1/Devel/IPerl.pm line 14\n\tDevel::IPerl::main() called at -e line 1\n",
     "output_type": "error",
     "traceback": [
      "Can't use an undefined value as an ARRAY reference at reply input line 26.\n at /usr/local/lib/perl5/site_perl/5.32.1/AI/MXNet/AutoGrad.pm line 408.\n\tAI::MXNet::AutoGrad::record(\"AI::MXNet::AutoGrad\", CODE(0xd290988)) called at /usr/local/lib/perl5/site_perl/5.32.1/x86_64-linux/d2l.pm line 6733\n\td2l::Trainer::fit_epoch(d2l::Trainer=HASH(0xc5ee030)) called at /usr/local/lib/perl5/site_perl/5.32.1/x86_64-linux/d2l.pm line 6659\n\td2l::Trainer::fit(d2l::Trainer=HASH(0xc5ee030), Seq2Seq=HASH(0xc44e100), d2l::MTFraEng=HASH(0xc3bf760)) called at reply input line 7\n\tEval::Closure::Sandbox_1599::__ANON__() called at /usr/local/lib/perl5/site_perl/5.32.1/Reply/Plugin/Defaults.pm line 71\n\tReply::Plugin::Defaults::execute(Reply::Plugin::Defaults=HASH(0x4587f50), CODE(0x4c083b8), CODE(0xc450bb0)) called at /usr/local/lib/perl5/site_perl/5.32.1/Reply.pm line 217\n\tReply::_wrapped_plugin(Reply=HASH(0x454fe38), ARRAY(0xc1c3f08), \"execute\", CODE(0xc450bb0)) called at /usr/local/lib/perl5/site_perl/5.32.1/Reply.pm line 215\n\tReply::__ANON__(CODE(0xc450bb0)) called at /usr/local/lib/perl5/site_perl/5.32.1/Reply/Plugin/IPerl.pm line 28\n\tReply::Plugin::IPerl::__ANON__() called at /usr/local/lib/perl5/site_perl/5.32.1/Capture/Tiny.pm line 382\n\teval {...} called at /usr/local/lib/perl5/site_perl/5.32.1/Capture/Tiny.pm line 382\n\tCapture::Tiny::_capture_tee(1, 1, 0, 0, CODE(0xc3cead8)) called at /usr/local/lib/perl5/site_perl/5.32.1/Reply/Plugin/IPerl.pm line 29\n\tReply::Plugin::IPerl::execute(Reply::Plugin::IPerl=HASH(0x45a0918), CODE(0xc44c950), CODE(0xc450bb0)) called at /usr/local/lib/perl5/site_perl/5.32.1/Reply.pm line 217\n\tReply::_wrapped_plugin(Reply=HASH(0x454fe38), \"execute\", CODE(0xc450bb0)) called at /usr/local/lib/perl5/site_perl/5.32.1/Reply.pm line 174\n\tReply::_eval(Reply=HASH(0x454fe38), \"\\x{a}#line 1 \\\"reply input\\\"\\x{a}my \\$data = new d2l::MTFraEng(batch_siz\"...) called at /usr/local/lib/perl5/site_perl/5.32.1/Reply.pm line 66\n\tReply::try {...} () called at /usr/local/lib/perl5/site_perl/5.32.1/Try/Tiny.pm line 102\n\teval {...} called at /usr/local/lib/perl5/site_perl/5.32.1/Try/Tiny.pm line 93\n\tTry::Tiny::try(CODE(0x4c082e0), Try::Tiny::Catch=REF(0xbece750)) called at /usr/local/lib/perl5/site_perl/5.32.1/Reply.pm line 71\n\tReply::step(Reply=HASH(0x454fe38), \"my \\$data = new d2l::MTFraEng(batch_size=> 128);\\x{a}(\\$embed_size,\"..., 0) called at /usr/local/lib/perl5/site_perl/5.32.1/Devel/IPerl/Kernel/Backend/Reply.pm line 48\n\tDevel::IPerl::Kernel::Backend::Reply::__ANON__() called at /usr/local/lib/perl5/site_perl/5.32.1/Capture/Tiny.pm line 382\n\teval {...} called at /usr/local/lib/perl5/site_perl/5.32.1/Capture/Tiny.pm line 382\n\tCapture::Tiny::_capture_tee(1, 1, 0, 0, CODE(0xdd4b310)) called at /usr/local/lib/perl5/site_perl/5.32.1/Devel/IPerl/Kernel/Backend/Reply.pm line 49\n\tDevel::IPerl::Kernel::Backend::Reply::run_line(Devel::IPerl::Kernel::Backend::Reply=HASH(0x1e1ca88), \"my \\$data = new d2l::MTFraEng(batch_size=> 128);\\x{a}(\\$embed_size,\"...) called at /usr/local/lib/perl5/site_perl/5.32.1/Devel/IPerl/Kernel/Callback/REPL.pm line 42\n\tDevel::IPerl::Kernel::Callback::REPL::execute(Devel::IPerl::Kernel::Callback::REPL=HASH(0x1f22408), Devel::IPerl::Kernel=HASH(0x20c1388), Devel::IPerl::Message::ZMQ=HASH(0xc44d418)) called at (eval 30) line 6\n\tDevel::IPerl::Kernel::Callback::REPL::execute(Devel::IPerl::Kernel::Callback::REPL=HASH(0x1f22408), Devel::IPerl::Kernel=HASH(0x20c1388), Devel::IPerl::Message::ZMQ=HASH(0xc44d418)) called at /usr/local/lib/perl5/site_perl/5.32.1/Devel/IPerl/Kernel/Callback/REPL.pm line 156\n\tDevel::IPerl::Kernel::Callback::REPL::msg_execute_request(Devel::IPerl::Kernel::Callback::REPL=HASH(0x1f22408), Devel::IPerl::Kernel=HASH(0x20c1388), Devel::IPerl::Message::ZMQ=HASH(0xc44d418), ZMQ::LibZMQ3::Socket=HASH(0x4bf4cb0)) called at /usr/local/lib/perl5/site_perl/5.32.1/Devel/IPerl/Kernel.pm line 245\n\tDevel::IPerl::Kernel::route_message(Devel::IPerl::Kernel=HASH(0x20c1388), ARRAY(0x4bf4dd0), ZMQ::LibZMQ3::Socket=HASH(0x4bf4cb0)) called at /usr/local/lib/perl5/site_perl/5.32.1/Devel/IPerl/Kernel.pm line 215\n\tDevel::IPerl::Kernel::__ANON__(Net::Async::ZMQ::Socket=HASH(0x4bf4e60)) called at /usr/local/lib/perl5/site_perl/5.32.1/IO/Async/Loop/Poll.pm line 172\n\tIO::Async::Loop::Poll::post_poll(IO::Async::Loop::Poll=HASH(0x4af7478)) called at /usr/local/lib/perl5/site_perl/5.32.1/IO/Async/Loop/Poll.pm line 292\n\tIO::Async::Loop::Poll::loop_once(IO::Async::Loop::Poll=HASH(0x4af7478), undef) called at /usr/local/lib/perl5/site_perl/5.32.1/IO/Async/Loop.pm line 538\n\tIO::Async::Loop::run(IO::Async::Loop::Poll=HASH(0x4af7478)) called at /usr/local/lib/perl5/site_perl/5.32.1/IO/Async/Loop.pm line 575\n\tIO::Async::Loop::loop_forever(IO::Async::Loop::Poll=HASH(0x4af7478)) called at /usr/local/lib/perl5/site_perl/5.32.1/Devel/IPerl/Kernel.pm line 225\n\tDevel::IPerl::Kernel::run(Devel::IPerl::Kernel=HASH(0x20c1388)) called at /usr/local/lib/perl5/site_perl/5.32.1/Devel/IPerl.pm line 14\n\tDevel::IPerl::main() called at -e line 1\n"
     ]
    }
   ],
   "source": [
    "my $data = new d2l::MTFraEng(batch_size=> 128);\n",
    "($embed_size, $num_hiddens, $num_layers, my $dropout) = (256, 256, 2, 0.2);\n",
    "$encoder = new Seq2SeqDecoder($data->{src_vocab}->len(), $embed_size,$num_hiddens,$num_layers,$dropout);\n",
    "$decoder = new Seq2SeqDecoder($data->{tgt_vocab}->len(), $embed_size, $num_hiddens,$num_layers,$dropout);\n",
    "my $model = new Seq2Seq($encoder,$decoder, tgt_pad=>$data->{tgt_vocab}->getitem('<pad>'), lr => 0.005);\n",
    "my $trainer = new d2l::Trainer(max_epochs=>30, gradient_clip_val=>1, num_gpus=>1);\n",
    "$trainer->fit($model, $data);"
   ]
  },
  {
   "cell_type": "markdown",
   "id": "e98fe507",
   "metadata": {},
   "source": [
    "## 10.7.7. Prediction\n",
    "\n",
    "To predict the output sequence\n",
    "at each step, \n",
    "the predicted token from the previous\n",
    "time step is fed into the decoder as an input.\n",
    "One simple strategy is to sample whichever token\n",
    "that has been assigned by the decoder the highest probability\n",
    "when predicting at each step.\n",
    "As in training, at the initial time step\n",
    "the beginning-of-sequence (\"&lt;bos&gt;\") token\n",
    "is fed into the decoder.\n",
    "This prediction process\n",
    "is illustrated in <span style=\"color:red;\"> Fig. 10.7.3.</span>.\n",
    "When the end-of-sequence (\"&lt;eos&gt;\") token is predicted,\n",
    "the prediction of the output sequence is complete.\n"
   ]
  },
  {
   "attachments": {
    "image.png": {
     "image/png": "[encoded data removed]"
    }
   },
   "cell_type": "markdown",
   "id": "abdad05a",
   "metadata": {},
   "source": [
    "![image.png](attachment:image.png)\n",
    "<center>Fig. 10.7.3 Predicting the output sequence token by token using an RNN encoder–decoder.</center>\n",
    "\n",
    "In the next section, we will introduce \n",
    "more sophisticated strategies \n",
    "based on beam search <span style=\"color:red;\">Section 10.8</span>.\n"
   ]
  },
  {
   "cell_type": "code",
   "execution_count": null,
   "id": "badfc317",
   "metadata": {},
   "outputs": [],
   "source": []
  },
  {
   "cell_type": "markdown",
   "id": "93fc0bd6",
   "metadata": {},
   "source": [
    "## 10.7.8. Evaluation of Predicted Sequences\n",
    "\n",
    "We can evaluate a predicted sequence\n",
    "by comparing it with the\n",
    "target sequence (the ground truth).\n",
    "But what precisely is the appropriate measure \n",
    "for comparing similarity between two sequences?\n",
    "\n",
    "\n",
    "Bilingual Evaluation Understudy (BLEU),\n",
    "though originally proposed for evaluating\n",
    "machine translation results (<span style=\"color:red;\"> Papineni et al., 2002</span>),\n",
    "has been extensively used in measuring\n",
    "the quality of output sequences for different applications.\n",
    "In principle, for any $n$-gram (<span style=\"color:red;\">Section 9.3.1.1</span>) in the predicted sequence,\n",
    "BLEU evaluates whether this $n$-gram appears\n",
    "in the target sequence.\n",
    "\n",
    "Denote by $p_n$ the precision of an $n$-gram,\n",
    "defined as the ratio \n",
    "of the number of matched $n$-grams in\n",
    "the predicted and target sequences\n",
    "to the number of $n$-grams in the predicted sequence.\n",
    "To explain, given a target sequence $A$, $B$, $C$, $D$, $E$, $F$,\n",
    "and a predicted sequence $A$, $B$, $B$, $C$, $D$,\n",
    "we have $p_1 = 4/5$,  $p_2 = 3/4$, $p_3 = 1/3$, and $p_4 = 0$.\n",
    "Now let $\\textrm{len}_{\\textrm{label}}$ and $\\textrm{len}_{\\textrm{pred}}$\n",
    "be the numbers of tokens in the target sequence \n",
    "and the predicted sequence, respectively.\n",
    "Then, BLEU is defined as\n",
    "\n",
    "$$ \\exp\\left(\\min\\left(0, 1 - \\frac{\\textrm{len}_{\\textrm{label}}}{\\textrm{len}_{\\textrm{pred}}}\\right)\\right) \\prod_{n=1}^k p_n^{1/2^n},$$\n",
    "(10.7.4)\n",
    "\n",
    "where $k$ is the longest $n$-gram for matching.\n",
    "\n",
    "Based on the definition of BLEU in <span style=\"color:red;\">(10.7.4)</span>,\n",
    "whenever the predicted sequence is the same as the target sequence, BLEU is 1.\n",
    "Moreover,\n",
    "since matching longer $n$-grams is more difficult,\n",
    "BLEU assigns a greater weight\n",
    "when a longer $n$-gram has high precision.\n",
    "Specifically, when $p_n$ is fixed,\n",
    "$p_n^{1/2^n}$ increases as $n$ grows (the original paper uses $p_n^{1/n}$).\n",
    "Furthermore,\n",
    "since\n",
    "predicting shorter sequences\n",
    "tends to yield a higher $p_n$ value,\n",
    "the coefficient before the multiplication term in <span style=\"color:red;\">(10.7.4)</span>\n",
    "penalizes shorter predicted sequences.\n",
    "For example, when $k=2$,\n",
    "given the target sequence $A$, $B$, $C$, $D$, $E$, $F$ and the predicted sequence $A$, $B$,\n",
    "although $p_1 = p_2 = 1$, the penalty factor $\\exp(1-6/2) \\approx 0.14$ lowers the BLEU.\n",
    "\n",
    "We implement the BLEU measure as follows.\n"
   ]
  },
  {
   "cell_type": "code",
   "execution_count": null,
   "id": "4aa785e9",
   "metadata": {},
   "outputs": [],
   "source": []
  },
  {
   "cell_type": "markdown",
   "id": "ab753336",
   "metadata": {},
   "source": [
    "In the end, we use the trained RNN encoder–decoder to translate a few English sentences into French and compute the BLEU of the results."
   ]
  },
  {
   "cell_type": "code",
   "execution_count": null,
   "id": "1f4f69bc",
   "metadata": {},
   "outputs": [],
   "source": []
  },
  {
   "cell_type": "markdown",
   "id": "c312824f",
   "metadata": {},
   "source": [
    "## 10.7.9 Summary\n",
    "\n",
    "Following the design of the encoder--decoder architecture, we can use two RNNs to design a model for sequence-to-sequence learning.\n",
    "In encoder--decoder training, the teacher forcing approach feeds original output sequences (in contrast to predictions) into the decoder.\n",
    "When implementing the encoder and the decoder, we can use multilayer RNNs.\n",
    "We can use masks to filter out irrelevant computations, such as when calculating the loss.\n",
    "For evaluating output sequences,\n",
    "BLEU is a popular measure that matches $n$-grams between the predicted sequence and the target sequence.\n",
    "\n",
    "\n",
    "## 10.7.10 Exercises\n",
    "\n",
    "1. Can you adjust the hyperparameters to improve the translation results?\n",
    "1. Rerun the experiment without using masks in the loss calculation. What results do you observe? Why?\n",
    "1. If the encoder and the decoder differ in the number of layers or the number of hidden units, how can we initialize the hidden state of the decoder?\n",
    "1. In training, replace teacher forcing with feeding the prediction at the previous time step into the decoder. How does this influence the performance?\n",
    "1. Rerun the experiment by replacing GRU with LSTM.\n",
    "1. Are there any other ways to design the output layer of the decoder?\n"
   ]
  }
 ],
 "metadata": {
  "kernelspec": {
   "display_name": "IPerl 0.011",
   "language": "perl",
   "name": "iperl"
  },
  "language_info": {
   "file_extension": ".pl",
   "mimetype": "text/x-perl",
   "name": "perl",
   "version": "5.32.1"
  }
 },
 "nbformat": 4,
 "nbformat_minor": 5
}
